{
 "cells": [
  {
   "cell_type": "code",
   "execution_count": 1,
   "metadata": {
    "_cell_guid": "b1076dfc-b9ad-4769-8c92-a6c4dae69d19",
    "_uuid": "8f2839f25d086af736a60e9eeb907d3b93b6e0e5",
    "execution": {
     "iopub.execute_input": "2021-01-01T15:38:42.431864Z",
     "iopub.status.busy": "2021-01-01T15:38:42.431118Z",
     "iopub.status.idle": "2021-01-01T15:39:55.973888Z",
     "shell.execute_reply": "2021-01-01T15:39:55.974591Z"
    },
    "papermill": {
     "duration": 73.551972,
     "end_time": "2021-01-01T15:39:55.974790",
     "exception": false,
     "start_time": "2021-01-01T15:38:42.422818",
     "status": "completed"
    },
    "tags": []
   },
   "outputs": [],
   "source": [
    "import numpy as np\n",
    "import pandas as pd\n",
    "import tensorflow as tf\n",
    "import dask.dataframe as dd\n",
    "\n",
    "tf.random.set_seed(3)\n",
    "\n",
    "train = dd.read_csv('train.csv').compute().sort_values('ts_id')\n",
    "features = [c for c in train.columns if \"feature\" in c]\n",
    "\n",
    "def create_mlp(num_columns, num_labels, hidden_units, dropout_rates, label_smoothing, learning_rate):\n",
    "    inp = tf.keras.layers.Input(shape = (num_columns,))\n",
    "    x = tf.keras.layers.BatchNormalization()(inp)\n",
    "    x = tf.keras.layers.Dropout(dropout_rates[0])(x)\n",
    "    \n",
    "    for i in range(len(hidden_units)):\n",
    "        x = tf.keras.layers.Dense(hidden_units[i])(x)\n",
    "        x = tf.keras.layers.BatchNormalization()(x)\n",
    "        x = tf.keras.layers.Activation(tf.keras.activations.swish)(x)\n",
    "        x = tf.keras.layers.Dropout(dropout_rates[i + 1])(x)\n",
    "\n",
    "    x = tf.keras.layers.Dense(num_labels)(x)\n",
    "    out = tf.keras.layers.Activation(\"sigmoid\")(x)\n",
    "    model = tf.keras.models.Model(inputs = inp, outputs = out)\n",
    "    model.compile(optimizer = tf.keras.optimizers.Adam(learning_rate = learning_rate),\n",
    "                  loss = tf.keras.losses.BinaryCrossentropy(label_smoothing = label_smoothing),\n",
    "                  metrics = tf.keras.metrics.AUC(name = \"AUC\"),)\n",
    "    return model\n",
    "\n",
    "batch_size = 4096\n",
    "hidden_units = [384, 896, 896, 394]\n",
    "dropout_rates = [0.10143786981358652,\n",
    "                 0.15720339053599725,\n",
    "                 0.2203017847244654,\n",
    "                 0.23148340929571917,\n",
    "                 0.2457768967777311,]\n",
    "\n",
    "label_smoothing = 1e-2\n",
    "learning_rate = 1e-7\n",
    "num_models = 2\n",
    "models = []\n",
    "\n",
    "for i in range(num_models):\n",
    "    clf = create_mlp(\n",
    "        len(features), 1, hidden_units, dropout_rates, label_smoothing, learning_rate\n",
    "    )\n",
    "    clf.load_weights(f\"../input/js-nn-models/JSModel_{i}.hdf5\")\n",
    "    models.append(clf)\n",
    "\n",
    "f_mean = np.load('../input/js-nn-models/f_mean.npy')"
   ]
  },
  {
   "cell_type": "code",
   "execution_count": 2,
   "metadata": {
    "execution": {
     "iopub.execute_input": "2021-01-01T15:39:55.987793Z",
     "iopub.status.busy": "2021-01-01T15:39:55.987096Z",
     "iopub.status.idle": "2021-01-01T15:39:55.990431Z",
     "shell.execute_reply": "2021-01-01T15:39:55.990940Z"
    },
    "papermill": {
     "duration": 0.010849,
     "end_time": "2021-01-01T15:39:55.991074",
     "exception": false,
     "start_time": "2021-01-01T15:39:55.980225",
     "status": "completed"
    },
    "tags": []
   },
   "outputs": [],
   "source": [
    "opt_th = 0.502"
   ]
  },
  {
   "cell_type": "code",
   "execution_count": 4,
   "metadata": {
    "execution": {
     "iopub.execute_input": "2021-01-01T15:40:06.293771Z",
     "iopub.status.busy": "2021-01-01T15:40:06.293055Z",
     "iopub.status.idle": "2021-01-01T15:45:08.378979Z",
     "shell.execute_reply": "2021-01-01T15:45:08.378063Z"
    },
    "papermill": {
     "duration": 302.101984,
     "end_time": "2021-01-01T15:45:08.379187",
     "exception": false,
     "start_time": "2021-01-01T15:40:06.277203",
     "status": "completed"
    },
    "tags": []
   },
   "outputs": [],
   "source": [
    "import janestreet\n",
    "\n",
    "env = janestreet.make_env()\n",
    "env_iter = env.iter_test()\n",
    "\n",
    "for test_df, pred_df in env_iter:\n",
    "    if test_df[\"weight\"].item() > 0:\n",
    "        x_tt = test_df.loc[:, features].values\n",
    "        if np.isnan(x_tt[:, 1:].sum()):\n",
    "            x_tt[:, 1:] = np.nan_to_num(x_tt[:, 1:]) + np.isnan(x_tt[:, 1:]) * f_mean\n",
    "        pred = 0.0\n",
    "        for clf in models:\n",
    "            pred += clf(x_tt, training=False).numpy().item() / num_models\n",
    "        pred_df.action = np.where(pred >= opt_th, 1, 0).astype(int)\n",
    "    else:\n",
    "        pred_df.action = 0\n",
    "    env.predict(pred_df)"
   ]
  }
 ],
 "metadata": {
  "kernelspec": {
   "display_name": "Python 3",
   "language": "python",
   "name": "python3"
  },
  "language_info": {
   "codemirror_mode": {
    "name": "ipython",
    "version": 3
   },
   "file_extension": ".py",
   "mimetype": "text/x-python",
   "name": "python",
   "nbconvert_exporter": "python",
   "pygments_lexer": "ipython3",
   "version": "3.8.3"
  },
  "papermill": {
   "duration": 390.881729,
   "end_time": "2021-01-01T15:45:08.606455",
   "environment_variables": {},
   "exception": null,
   "input_path": "__notebook__.ipynb",
   "output_path": "__notebook__.ipynb",
   "parameters": {},
   "start_time": "2021-01-01T15:38:37.724726",
   "version": "2.1.0"
  }
 },
 "nbformat": 4,
 "nbformat_minor": 4
}
